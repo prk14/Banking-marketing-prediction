{
 "cells": [
  {
   "cell_type": "code",
   "execution_count": 1,
   "id": "bcbcef12",
   "metadata": {},
   "outputs": [],
   "source": [
    "# important imports\n",
    "import numpy as np\n",
    "import pandas as pd\n",
    "import matplotlib.pyplot as plt\n",
    "import seaborn as sns"
   ]
  },
  {
   "cell_type": "code",
   "execution_count": 4,
   "id": "2a945b4f",
   "metadata": {},
   "outputs": [
    {
     "data": {
      "text/html": [
       "<div>\n",
       "<style scoped>\n",
       "    .dataframe tbody tr th:only-of-type {\n",
       "        vertical-align: middle;\n",
       "    }\n",
       "\n",
       "    .dataframe tbody tr th {\n",
       "        vertical-align: top;\n",
       "    }\n",
       "\n",
       "    .dataframe thead th {\n",
       "        text-align: right;\n",
       "    }\n",
       "</style>\n",
       "<table border=\"1\" class=\"dataframe\">\n",
       "  <thead>\n",
       "    <tr style=\"text-align: right;\">\n",
       "      <th></th>\n",
       "      <th>age</th>\n",
       "      <th>duration</th>\n",
       "      <th>campaign</th>\n",
       "      <th>pdays</th>\n",
       "      <th>previous</th>\n",
       "      <th>emp.var.rate</th>\n",
       "      <th>cons.price.idx</th>\n",
       "      <th>cons.conf.idx</th>\n",
       "      <th>job_blue-collar</th>\n",
       "      <th>job_entrepreneur</th>\n",
       "      <th>...</th>\n",
       "      <th>month_nov</th>\n",
       "      <th>month_oct</th>\n",
       "      <th>month_sep</th>\n",
       "      <th>day_of_week_mon</th>\n",
       "      <th>day_of_week_thu</th>\n",
       "      <th>day_of_week_tue</th>\n",
       "      <th>day_of_week_wed</th>\n",
       "      <th>poutcome_nonexistent</th>\n",
       "      <th>poutcome_success</th>\n",
       "      <th>y_yes</th>\n",
       "    </tr>\n",
       "  </thead>\n",
       "  <tbody>\n",
       "    <tr>\n",
       "      <th>0</th>\n",
       "      <td>56</td>\n",
       "      <td>261</td>\n",
       "      <td>1</td>\n",
       "      <td>999</td>\n",
       "      <td>0</td>\n",
       "      <td>1.1</td>\n",
       "      <td>93.994</td>\n",
       "      <td>-36.4</td>\n",
       "      <td>0</td>\n",
       "      <td>0</td>\n",
       "      <td>...</td>\n",
       "      <td>0</td>\n",
       "      <td>0</td>\n",
       "      <td>0</td>\n",
       "      <td>1</td>\n",
       "      <td>0</td>\n",
       "      <td>0</td>\n",
       "      <td>0</td>\n",
       "      <td>1</td>\n",
       "      <td>0</td>\n",
       "      <td>0</td>\n",
       "    </tr>\n",
       "    <tr>\n",
       "      <th>1</th>\n",
       "      <td>57</td>\n",
       "      <td>149</td>\n",
       "      <td>1</td>\n",
       "      <td>999</td>\n",
       "      <td>0</td>\n",
       "      <td>1.1</td>\n",
       "      <td>93.994</td>\n",
       "      <td>-36.4</td>\n",
       "      <td>0</td>\n",
       "      <td>0</td>\n",
       "      <td>...</td>\n",
       "      <td>0</td>\n",
       "      <td>0</td>\n",
       "      <td>0</td>\n",
       "      <td>1</td>\n",
       "      <td>0</td>\n",
       "      <td>0</td>\n",
       "      <td>0</td>\n",
       "      <td>1</td>\n",
       "      <td>0</td>\n",
       "      <td>0</td>\n",
       "    </tr>\n",
       "    <tr>\n",
       "      <th>2</th>\n",
       "      <td>37</td>\n",
       "      <td>226</td>\n",
       "      <td>1</td>\n",
       "      <td>999</td>\n",
       "      <td>0</td>\n",
       "      <td>1.1</td>\n",
       "      <td>93.994</td>\n",
       "      <td>-36.4</td>\n",
       "      <td>0</td>\n",
       "      <td>0</td>\n",
       "      <td>...</td>\n",
       "      <td>0</td>\n",
       "      <td>0</td>\n",
       "      <td>0</td>\n",
       "      <td>1</td>\n",
       "      <td>0</td>\n",
       "      <td>0</td>\n",
       "      <td>0</td>\n",
       "      <td>1</td>\n",
       "      <td>0</td>\n",
       "      <td>0</td>\n",
       "    </tr>\n",
       "    <tr>\n",
       "      <th>3</th>\n",
       "      <td>40</td>\n",
       "      <td>151</td>\n",
       "      <td>1</td>\n",
       "      <td>999</td>\n",
       "      <td>0</td>\n",
       "      <td>1.1</td>\n",
       "      <td>93.994</td>\n",
       "      <td>-36.4</td>\n",
       "      <td>0</td>\n",
       "      <td>0</td>\n",
       "      <td>...</td>\n",
       "      <td>0</td>\n",
       "      <td>0</td>\n",
       "      <td>0</td>\n",
       "      <td>1</td>\n",
       "      <td>0</td>\n",
       "      <td>0</td>\n",
       "      <td>0</td>\n",
       "      <td>1</td>\n",
       "      <td>0</td>\n",
       "      <td>0</td>\n",
       "    </tr>\n",
       "    <tr>\n",
       "      <th>4</th>\n",
       "      <td>56</td>\n",
       "      <td>307</td>\n",
       "      <td>1</td>\n",
       "      <td>999</td>\n",
       "      <td>0</td>\n",
       "      <td>1.1</td>\n",
       "      <td>93.994</td>\n",
       "      <td>-36.4</td>\n",
       "      <td>0</td>\n",
       "      <td>0</td>\n",
       "      <td>...</td>\n",
       "      <td>0</td>\n",
       "      <td>0</td>\n",
       "      <td>0</td>\n",
       "      <td>1</td>\n",
       "      <td>0</td>\n",
       "      <td>0</td>\n",
       "      <td>0</td>\n",
       "      <td>1</td>\n",
       "      <td>0</td>\n",
       "      <td>0</td>\n",
       "    </tr>\n",
       "  </tbody>\n",
       "</table>\n",
       "<p>5 rows × 52 columns</p>\n",
       "</div>"
      ],
      "text/plain": [
       "   age  duration  campaign  pdays  previous  emp.var.rate  cons.price.idx  \\\n",
       "0   56       261         1    999         0           1.1          93.994   \n",
       "1   57       149         1    999         0           1.1          93.994   \n",
       "2   37       226         1    999         0           1.1          93.994   \n",
       "3   40       151         1    999         0           1.1          93.994   \n",
       "4   56       307         1    999         0           1.1          93.994   \n",
       "\n",
       "   cons.conf.idx  job_blue-collar  job_entrepreneur  ...  month_nov  \\\n",
       "0          -36.4                0                 0  ...          0   \n",
       "1          -36.4                0                 0  ...          0   \n",
       "2          -36.4                0                 0  ...          0   \n",
       "3          -36.4                0                 0  ...          0   \n",
       "4          -36.4                0                 0  ...          0   \n",
       "\n",
       "   month_oct  month_sep  day_of_week_mon  day_of_week_thu  day_of_week_tue  \\\n",
       "0          0          0                1                0                0   \n",
       "1          0          0                1                0                0   \n",
       "2          0          0                1                0                0   \n",
       "3          0          0                1                0                0   \n",
       "4          0          0                1                0                0   \n",
       "\n",
       "   day_of_week_wed  poutcome_nonexistent  poutcome_success  y_yes  \n",
       "0                0                     1                 0      0  \n",
       "1                0                     1                 0      0  \n",
       "2                0                     1                 0      0  \n",
       "3                0                     1                 0      0  \n",
       "4                0                     1                 0      0  \n",
       "\n",
       "[5 rows x 52 columns]"
      ]
     },
     "execution_count": 4,
     "metadata": {},
     "output_type": "execute_result"
    }
   ],
   "source": [
    "bank_df = pd.read_csv('banking_data_clean.csv')\n",
    "bank_df.head()"
   ]
  },
  {
   "cell_type": "code",
   "execution_count": 42,
   "id": "639d1a69",
   "metadata": {},
   "outputs": [
    {
     "data": {
      "text/plain": [
       "<seaborn.axisgrid.FacetGrid at 0x25ac1efc2b0>"
      ]
     },
     "execution_count": 42,
     "metadata": {},
     "output_type": "execute_result"
    },
    {
     "data": {
      "image/png": "[encoded data removed]",
      "text/plain": [
       "<Figure size 360x360 with 1 Axes>"
      ]
     },
     "metadata": {
      "needs_background": "light"
     },
     "output_type": "display_data"
    }
   ],
   "source": [
    "sns.displot(x='y_yes', data=bank_df)"
   ]
  },
  {
   "cell_type": "code",
   "execution_count": 16,
   "id": "1b742829",
   "metadata": {},
   "outputs": [],
   "source": [
    "# lets try model building using upsampling\n",
    "from imblearn import over_sampling\n",
    "from imblearn import under_sampling\n",
    "\n",
    "from sklearn.preprocessing import StandardScaler\n",
    "from sklearn.model_selection import train_test_split\n",
    "from sklearn.linear_model import LogisticRegression\n",
    "from sklearn.neighbors import KNeighborsClassifier\n",
    "from sklearn.svm import SVC\n",
    "from sklearn.tree import DecisionTreeClassifier\n",
    "from sklearn.ensemble import RandomForestClassifier\n",
    "from sklearn.ensemble import GradientBoostingClassifier\n",
    "\n",
    "from sklearn.metrics import accuracy_score, recall_score, precision_score, roc_auc_score, f1_score,confusion_matrix\n",
    "from sklearn.model_selection import cross_val_score"
   ]
  },
  {
   "cell_type": "code",
   "execution_count": 9,
   "id": "c29ae6a2",
   "metadata": {},
   "outputs": [],
   "source": [
    "X = bank_df.drop('y_yes', axis=1)\n",
    "y=bank_df.y_yes\n",
    "X_train, X_test, y_train, y_test = train_test_split(X, y, test_size=0.3, random_state=42)"
   ]
  },
  {
   "cell_type": "code",
   "execution_count": 17,
   "id": "11d54996",
   "metadata": {},
   "outputs": [],
   "source": [
    "over = over_sampling.RandomOverSampler(random_state=42)\n",
    "X_over, y_over = over.fit_resample(X_train,y_train)"
   ]
  },
  {
   "cell_type": "code",
   "execution_count": 27,
   "id": "9b4751c6",
   "metadata": {},
   "outputs": [
    {
     "data": {
      "text/plain": [
       "(10391, 51)"
      ]
     },
     "execution_count": 27,
     "metadata": {},
     "output_type": "execute_result"
    }
   ],
   "source": [
    "X_test, y_test = over."
   ]
  },
  {
   "cell_type": "code",
   "execution_count": 19,
   "id": "7fc9f51c",
   "metadata": {},
   "outputs": [],
   "source": [
    "std = StandardScaler()\n",
    "X_train_std = std.fit_transform(X_over)\n",
    "X_test_std = std.transform(X_test)"
   ]
  },
  {
   "cell_type": "code",
   "execution_count": 28,
   "id": "7606a24b",
   "metadata": {},
   "outputs": [
    {
     "name": "stdout",
     "output_type": "stream",
     "text": [
      "[[8181   82]\n",
      " [1369  759]]\n",
      "0.8603599268597825\n",
      "0.8765111917587843\n"
     ]
    }
   ],
   "source": [
    "lr = LogisticRegression()\n",
    "lr_m = lr.fit(X_train_std, y_over)\n",
    "lr_pred = lr_m.predict(X_test_std)\n",
    "\n",
    "print(confusion_matrix(lr_pred, y_test))\n",
    "print(accuracy_score(lr_pred, y_test))\n",
    "print(cross_val_score(lr,X_train_std,y_over,cv=10,scoring='accuracy').mean())"
   ]
  },
  {
   "cell_type": "code",
   "execution_count": 29,
   "id": "551383be",
   "metadata": {},
   "outputs": [
    {
     "name": "stdout",
     "output_type": "stream",
     "text": [
      "For k 1 accuracy is 0.975819078141534\n",
      "For k 2 accuracy is 0.975819078141534\n",
      "For k 3 accuracy is 0.9590991739085414\n",
      "For k 4 accuracy is 0.9587620801038487\n",
      "For k 5 accuracy is 0.9451659683655714\n",
      "For k 6 accuracy is 0.9446041100007324\n",
      "For k 7 accuracy is 0.9326484224456448\n",
      "For k 8 accuracy is 0.9308730708327333\n",
      "For k 9 accuracy is 0.922355898686992\n",
      "For k 10 accuracy is 0.9190523915234076\n",
      "For k 11 accuracy is 0.9117261952566034\n",
      "For k 12 accuracy is 0.9081304421395038\n",
      "For k 13 accuracy is 0.9008043216377372\n",
      "For k 14 accuracy is 0.8964220213606895\n",
      "For k 15 accuracy is 0.8907139794070627\n",
      "For k 16 accuracy is 0.8860171431024773\n",
      "For k 17 accuracy is 0.8812752922636321\n",
      "For k 18 accuracy is 0.8777695177050265\n",
      "For k 19 accuracy is 0.8741738251999566\n",
      "For k 20 accuracy is 0.871072610686406\n",
      "For k 21 accuracy is 0.8681287096456469\n",
      "For k 22 accuracy is 0.8675669472498553\n",
      "For k 23 accuracy is 0.8655443490646807\n",
      "For k 24 accuracy is 0.8667579887918254\n",
      "For k 25 accuracy is 0.8651174989456033\n",
      "For k 26 accuracy is 0.8641961102229765\n",
      "For k 27 accuracy is 0.8631848086048878\n",
      "For k 28 accuracy is 0.8619488080896855\n",
      "For k 29 accuracy is 0.8606903053583561\n",
      "For k 30 accuracy is 0.8599486767636207\n"
     ]
    },
    {
     "data": {
      "text/plain": [
       "[<matplotlib.lines.Line2D at 0x25ac2381100>]"
      ]
     },
     "execution_count": 29,
     "metadata": {},
     "output_type": "execute_result"
    },
    {
     "data": {
      "image/png": "[encoded data removed]",
      "text/plain": [
       "<Figure size 432x288 with 1 Axes>"
      ]
     },
     "metadata": {
      "needs_background": "light"
     },
     "output_type": "display_data"
    }
   ],
   "source": [
    "lst=[]\n",
    "for k in range(1,31):\n",
    "    alg = KNeighborsClassifier(n_neighbors=k)\n",
    "    #model = alg.fit(X_train_std, y_train)\n",
    "    #pred = model.predict(X_test)\n",
    "    score = cross_val_score(alg,X_train_std, y_over,cv=10,scoring='accuracy').mean()\n",
    "    lst.append(score)\n",
    "    #print(confusion_matrix(pred, y_test))\n",
    "    print('For k {} accuracy is {}'.format(k, score))\n",
    "    \n",
    "    #print(cross_val_score(alg,X_train_std,y_train,cv=10,scoring='accuracy').mean())\n",
    "    \n",
    "plt.plot(lst)"
   ]
  },
  {
   "cell_type": "code",
   "execution_count": 38,
   "id": "e4c1cf9e",
   "metadata": {},
   "outputs": [
    {
     "name": "stdout",
     "output_type": "stream",
     "text": [
      "[[9253  360]\n",
      " [ 297  481]]\n",
      "0.9367722067173515\n",
      "0.9825160457721847\n"
     ]
    }
   ],
   "source": [
    "rfc = RandomForestClassifier()\n",
    "rf_m = rfc.fit(X_train_std, y_over)\n",
    "rf_pred= rf_m.predict(X_test_std)\n",
    "print(confusion_matrix(rf_pred, y_test))\n",
    "print(accuracy_score(rf_pred, y_test))\n",
    "print(cross_val_score(rfc,X_train_std,y_over,cv=10,scoring='accuracy').mean())"
   ]
  },
  {
   "cell_type": "code",
   "execution_count": 39,
   "id": "5756e362",
   "metadata": {},
   "outputs": [
    {
     "name": "stdout",
     "output_type": "stream",
     "text": [
      "0.5719381688466112\n",
      "0.6182519280205655\n",
      "0.5941939468807906\n"
     ]
    }
   ],
   "source": [
    "print(precision_score(rf_pred, y_test))\n",
    "print(recall_score(rf_pred, y_test))\n",
    "print(f1_score(rf_pred, y_test))"
   ]
  },
  {
   "cell_type": "code",
   "execution_count": 40,
   "id": "12a2aa72",
   "metadata": {},
   "outputs": [
    {
     "name": "stdout",
     "output_type": "stream",
     "text": [
      "[[9253  360]\n",
      " [ 297  481]]\n",
      "0.9367722067173515\n",
      "0.8914781405239405\n"
     ]
    }
   ],
   "source": [
    "gb = GradientBoostingClassifier()\n",
    "gb_m = gb.fit(X_train_std, y_over)\n",
    "gb_pred= rf_m.predict(X_test_std)\n",
    "print(confusion_matrix(gb_pred, y_test))\n",
    "print(accuracy_score(gb_pred, y_test))\n",
    "print(cross_val_score(gb,X_train_std,y_over,cv=10,scoring='accuracy').mean())"
   ]
  },
  {
   "cell_type": "code",
   "execution_count": 47,
   "id": "07a9e4e7",
   "metadata": {},
   "outputs": [
    {
     "name": "stdout",
     "output_type": "stream",
     "text": [
      "0.5719381688466112\n",
      "0.6182519280205655\n",
      "0.5941939468807906\n"
     ]
    }
   ],
   "source": [
    "print(precision_score(gb_pred, y_test))\n",
    "print(recall_score(gb_pred, y_test))\n",
    "print(f1_score(gb_pred, y_test))"
   ]
  },
  {
   "cell_type": "markdown",
   "id": "4011202d",
   "metadata": {},
   "source": [
    "### Now lets try hyperparameter tuning for Gradient boosting and Random forest"
   ]
  },
  {
   "cell_type": "code",
   "execution_count": 43,
   "id": "c08845b2",
   "metadata": {},
   "outputs": [],
   "source": [
    "from sklearn.model_selection import RandomizedSearchCV\n",
    "from sklearn.model_selection import GridSearchCV"
   ]
  },
  {
   "cell_type": "code",
   "execution_count": 50,
   "id": "fce16779",
   "metadata": {},
   "outputs": [
    {
     "name": "stdout",
     "output_type": "stream",
     "text": [
      "{'bootstrap': [True], 'max_depth': [80, 90, 100, 110], 'max_features': [2, 3], 'min_samples_leaf': [3, 4, 5], 'min_samples_split': [8, 10, 12], 'n_estimators': [100, 200, 300, 1000]}\n"
     ]
    }
   ],
   "source": [
    "param_grid = {\n",
    "    'bootstrap': [True],\n",
    "    'max_depth': [80, 90, 100, 110],\n",
    "    'max_features': [2, 3],\n",
    "    'min_samples_leaf': [3, 4, 5],\n",
    "    'min_samples_split': [8, 10, 12],\n",
    "    'n_estimators': [100, 200, 300, 1000]\n",
    "}\n",
    "print(param_grid)"
   ]
  },
  {
   "cell_type": "code",
   "execution_count": null,
   "id": "4ba1b349",
   "metadata": {},
   "outputs": [],
   "source": [
    "gb_params = {loss='deviance',\n",
    "    learning_rate=0.1,\n",
    "    n_estimators=100,\n",
    "    subsample=1.0,\n",
    "    criterion='friedman_mse',\n",
    "    min_samples_split=2,\n",
    "    min_samples_leaf=1,\n",
    "    min_weight_fraction_leaf=0.0,\n",
    "    max_depth=3,\n",
    "    min_impurity_decrease=0.0,\n",
    "    min_impurity_split=None,\n",
    "    init=None,\n",
    "    random_state=None,\n",
    "    max_features=None,\n",
    "    verbose=0,\n",
    "    max_leaf_nodes=None,\n",
    "    warm_start=False,\n",
    "    validation_fraction=0.1,\n",
    "    n_iter_no_change=None,\n",
    "    tol=0.0001,\n",
    "    ccp_alpha=0.0,"
   ]
  },
  {
   "cell_type": "code",
   "execution_count": 53,
   "id": "2866a052",
   "metadata": {},
   "outputs": [],
   "source": [
    "rf_random = RandomizedSearchCV(rfc, param_grid, n_iter = 10, cv = 3, verbose=2, random_state=42, n_jobs = -1)"
   ]
  },
  {
   "cell_type": "code",
   "execution_count": 54,
   "id": "787f53f9",
   "metadata": {},
   "outputs": [
    {
     "name": "stdout",
     "output_type": "stream",
     "text": [
      "Fitting 3 folds for each of 10 candidates, totalling 30 fits\n"
     ]
    },
    {
     "data": {
      "text/plain": [
       "RandomizedSearchCV(cv=3, estimator=RandomForestClassifier(), n_jobs=-1,\n",
       "                   param_distributions={'bootstrap': [True],\n",
       "                                        'max_depth': [80, 90, 100, 110],\n",
       "                                        'max_features': [2, 3],\n",
       "                                        'min_samples_leaf': [3, 4, 5],\n",
       "                                        'min_samples_split': [8, 10, 12],\n",
       "                                        'n_estimators': [100, 200, 300, 1000]},\n",
       "                   random_state=42, verbose=2)"
      ]
     },
     "execution_count": 54,
     "metadata": {},
     "output_type": "execute_result"
    }
   ],
   "source": [
    "rf_random.fit(X_train_std, y_over)"
   ]
  },
  {
   "cell_type": "code",
   "execution_count": 55,
   "id": "b448f719",
   "metadata": {},
   "outputs": [
    {
     "data": {
      "text/plain": [
       "{'n_estimators': 200,\n",
       " 'min_samples_split': 8,\n",
       " 'min_samples_leaf': 3,\n",
       " 'max_features': 3,\n",
       " 'max_depth': 100,\n",
       " 'bootstrap': True}"
      ]
     },
     "execution_count": 55,
     "metadata": {},
     "output_type": "execute_result"
    }
   ],
   "source": [
    "rf_random.best_params_"
   ]
  },
  {
   "cell_type": "code",
   "execution_count": 56,
   "id": "073e58d7",
   "metadata": {},
   "outputs": [
    {
     "name": "stdout",
     "output_type": "stream",
     "text": [
      "0.9078048311038399\n",
      "0.7895362663495838\n",
      "0.45951557093425605\n",
      "0.5809273840769903\n"
     ]
    }
   ],
   "source": [
    "rf_random_pred = rf_random.predict(X_test_std)\n",
    "print(accuracy_score(rf_random_pred, y_test))\n",
    "print(precision_score(rf_random_pred, y_test))\n",
    "print(recall_score(rf_random_pred, y_test))\n",
    "print(f1_score(rf_random_pred, y_test))"
   ]
  },
  {
   "cell_type": "code",
   "execution_count": 61,
   "id": "05152fdd",
   "metadata": {},
   "outputs": [
    {
     "name": "stdout",
     "output_type": "stream",
     "text": [
      "Fitting 3 folds for each of 288 candidates, totalling 864 fits\n"
     ]
    },
    {
     "data": {
      "text/plain": [
       "GridSearchCV(cv=3, estimator=RandomForestClassifier(), n_jobs=-1,\n",
       "             param_grid={'bootstrap': [True], 'max_depth': [80, 90, 100, 110],\n",
       "                         'max_features': [2, 3], 'min_samples_leaf': [3, 4, 5],\n",
       "                         'min_samples_split': [8, 10, 12],\n",
       "                         'n_estimators': [100, 200, 300, 1000]},\n",
       "             verbose=2)"
      ]
     },
     "execution_count": 61,
     "metadata": {},
     "output_type": "execute_result"
    }
   ],
   "source": [
    "rf_grid = GridSearchCV(rfc, param_grid, cv = 3, verbose=2, n_jobs = -1)\n",
    "rf_grid.fit(X_train_std, y_over)"
   ]
  },
  {
   "cell_type": "code",
   "execution_count": 62,
   "id": "8ea5ee0a",
   "metadata": {},
   "outputs": [
    {
     "data": {
      "text/plain": [
       "{'bootstrap': True,\n",
       " 'max_depth': 90,\n",
       " 'max_features': 3,\n",
       " 'min_samples_leaf': 3,\n",
       " 'min_samples_split': 8,\n",
       " 'n_estimators': 300}"
      ]
     },
     "execution_count": 62,
     "metadata": {},
     "output_type": "execute_result"
    }
   ],
   "source": [
    "rf_grid.best_params_"
   ]
  },
  {
   "cell_type": "code",
   "execution_count": 63,
   "id": "c30e6dcf",
   "metadata": {},
   "outputs": [
    {
     "name": "stdout",
     "output_type": "stream",
     "text": [
      "0.9091521508998172\n",
      "0.7954815695600476\n",
      "0.46426092990978485\n",
      "0.5863277826468011\n"
     ]
    }
   ],
   "source": [
    "rf_grid_pred = rf_grid.predict(X_test_std)\n",
    "print(accuracy_score(rf_grid_pred, y_test))\n",
    "print(precision_score(rf_grid_pred, y_test))\n",
    "print(recall_score(rf_grid_pred, y_test))\n",
    "print(f1_score(rf_grid_pred, y_test))"
   ]
  },
  {
   "cell_type": "code",
   "execution_count": 66,
   "id": "4ce25181",
   "metadata": {},
   "outputs": [],
   "source": [
    "gb_param_grid = {\n",
    "    'max_depth': [80, 90, 100, 110],\n",
    "    'max_features': [2, 3],\n",
    "    'min_samples_leaf': [3, 4, 5],\n",
    "    'min_samples_split': [8, 10, 12],\n",
    "    'n_estimators': [100, 200, 300, 1000]\n",
    "}"
   ]
  },
  {
   "cell_type": "code",
   "execution_count": 67,
   "id": "b553f0b4",
   "metadata": {},
   "outputs": [
    {
     "name": "stdout",
     "output_type": "stream",
     "text": [
      "Fitting 3 folds for each of 10 candidates, totalling 30 fits\n"
     ]
    },
    {
     "data": {
      "text/plain": [
       "RandomizedSearchCV(cv=3, estimator=GradientBoostingClassifier(), n_jobs=-1,\n",
       "                   param_distributions={'max_depth': [80, 90, 100, 110],\n",
       "                                        'max_features': [2, 3],\n",
       "                                        'min_samples_leaf': [3, 4, 5],\n",
       "                                        'min_samples_split': [8, 10, 12],\n",
       "                                        'n_estimators': [100, 200, 300, 1000]},\n",
       "                   random_state=42, verbose=2)"
      ]
     },
     "execution_count": 67,
     "metadata": {},
     "output_type": "execute_result"
    }
   ],
   "source": [
    "gb_random = RandomizedSearchCV(gb, gb_param_grid, n_iter = 10, cv = 3, verbose=2, random_state=42, n_jobs = -1)\n",
    "gb_random.fit(X_train_std, y_over)"
   ]
  },
  {
   "cell_type": "code",
   "execution_count": 68,
   "id": "4689454d",
   "metadata": {},
   "outputs": [
    {
     "name": "stdout",
     "output_type": "stream",
     "text": [
      "0.9352324126648061\n",
      "0.41379310344827586\n",
      "0.6590909090909091\n",
      "0.5084002921840759\n"
     ]
    }
   ],
   "source": [
    "gb_random_pred= gb_random.predict(X_test_std)\n",
    "print(accuracy_score(gb_random_pred, y_test))\n",
    "print(precision_score(gb_random_pred, y_test))\n",
    "print(recall_score(gb_random_pred, y_test))\n",
    "print(f1_score(gb_random_pred, y_test))"
   ]
  },
  {
   "cell_type": "code",
   "execution_count": 73,
   "id": "52af4d16",
   "metadata": {},
   "outputs": [
    {
     "data": {
      "text/plain": [
       "{'n_estimators': 1000,\n",
       " 'min_samples_split': 8,\n",
       " 'min_samples_leaf': 4,\n",
       " 'max_features': 3,\n",
       " 'max_depth': 100}"
      ]
     },
     "execution_count": 73,
     "metadata": {},
     "output_type": "execute_result"
    }
   ],
   "source": [
    "gb_random.best_params_"
   ]
  },
  {
   "cell_type": "code",
   "execution_count": 76,
   "id": "d57b145e",
   "metadata": {},
   "outputs": [
    {
     "name": "stdout",
     "output_type": "stream",
     "text": [
      "[[9253  360]\n",
      " [ 297  481]]\n",
      "0.9367722067173515\n"
     ]
    }
   ],
   "source": [
    "gb = GradientBoostingClassifier(n_estimators=1000, min_samples_split=8,min_samples_leaf=4, max_features=3,max_depth=100)\n",
    "gb_m = gb.fit(X_train_std, y_over)\n",
    "gb_pred= rf_m.predict(X_test_std)\n",
    "print(confusion_matrix(gb_pred, y_test))\n",
    "print(accuracy_score(gb_pred, y_test))\n",
    "#print(cross_val_score(gb,X_train_std,y_over,cv=10,scoring='accuracy').mean())"
   ]
  },
  {
   "cell_type": "code",
   "execution_count": 77,
   "id": "10a09478",
   "metadata": {},
   "outputs": [
    {
     "name": "stdout",
     "output_type": "stream",
     "text": [
      "0.5719381688466112\n",
      "0.6182519280205655\n",
      "0.5941939468807906\n"
     ]
    }
   ],
   "source": [
    "print(precision_score(gb_pred, y_test))\n",
    "print(recall_score(gb_pred, y_test))\n",
    "print(f1_score(gb_pred, y_test))"
   ]
  },
  {
   "cell_type": "markdown",
   "id": "7692fa36",
   "metadata": {},
   "source": [
    "### Above model with given parameters is the best fit model for the given problem"
   ]
  },
  {
   "cell_type": "code",
   "execution_count": null,
   "id": "ea8c58b5",
   "metadata": {},
   "outputs": [],
   "source": []
  }
 ],
 "metadata": {
  "kernelspec": {
   "display_name": "Python 3",
   "language": "python",
   "name": "python3"
  },
  "language_info": {
   "codemirror_mode": {
    "name": "ipython",
    "version": 3
   },
   "file_extension": ".py",
   "mimetype": "text/x-python",
   "name": "python",
   "nbconvert_exporter": "python",
   "pygments_lexer": "ipython3",
   "version": "3.8.8"
  }
 },
 "nbformat": 4,
 "nbformat_minor": 5
}
